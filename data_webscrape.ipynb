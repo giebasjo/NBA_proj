{
 "cells": [
  {
   "cell_type": "code",
   "execution_count": 1,
   "metadata": {},
   "outputs": [],
   "source": [
    "# Import packages\n",
    "import pandas as pd\n",
    "import numpy as np\n",
    "import matplotlib.pyplot as plt\n",
    "import seaborn as sns; sns.set()\n",
    "\n",
    "# Fuck warnings\n",
    "import warnings\n",
    "warnings.filterwarnings('ignore')"
   ]
  },
  {
   "cell_type": "markdown",
   "metadata": {},
   "source": [
    "## Building a master dataset"
   ]
  },
  {
   "cell_type": "code",
   "execution_count": 10,
   "metadata": {},
   "outputs": [],
   "source": [
    "master_df = pd.DataFrame()"
   ]
  },
  {
   "cell_type": "markdown",
   "metadata": {},
   "source": [
    "## Basketball Reference"
   ]
  },
  {
   "cell_type": "code",
   "execution_count": 84,
   "metadata": {},
   "outputs": [],
   "source": [
    "# Load data for each of the https://www.basketball-reference.com/ sites\n",
    "br_per100_url = \"https://www.basketball-reference.com/leagues/NBA_2018_per_poss.html\"\n",
    "br_per100_data = pd.read_html(br_per100_url)[0]\n",
    "cols_list = br_per100_data.columns.tolist()\n",
    "cols_100 = [elm for elm in cols_list[8:]]\n",
    "cols_100.append( cols_list[1] )\n",
    "\n",
    "br_adv_url  = \"https://www.basketball-reference.com/leagues/NBA_2018_advanced.html\"\n",
    "br_adv_data = pd.read_html(br_adv_url)[0]\n",
    "cols_adv = br_adv_data.columns.tolist()[1:3] + br_adv_data.columns.tolist()[4:]\n",
    "\n",
    "\n",
    "br_tot_url = \"https://www.basketball-reference.com/leagues/NBA_2018_totals.html\"\n",
    "br_tot_data = pd.read_html(br_tot_url)[0]\n",
    "\n",
    "tmp = br_tot_data.columns.tolist()\n",
    "tmp = tmp[1:]\n",
    "not_keep = tmp[1:7]\n",
    "final = list()\n",
    "for elm in tmp:\n",
    "    if elm not in not_keep:\n",
    "        final.append( elm )\n",
    "        \n",
    "final_2 = list()\n",
    "for elm in final:\n",
    "    if ('%' not in elm) or (elm == \"eFG%\"):\n",
    "        final_2.append(elm)\n",
    "        \n",
    "cols_tot = final_2"
   ]
  },
  {
   "cell_type": "code",
   "execution_count": 4,
   "metadata": {},
   "outputs": [],
   "source": [
    "import requests\n",
    "\n",
    "# Load data for each of the http://stats.nba.com/leaders/\n",
    "nba_stats_total_url = \"http://stats.nba.com/leaders/?Season=2017-18&SeasonType=Regular%20Season&PerMode=Totals\"\n",
    "address = nba_stats_total_url\n",
    "\n",
    "response = requests.get(address, headers={\n",
    "    'User-Agent': 'Mozilla/5.0 (X11; Ubuntu; Linux x86_64; rv:46.0) Gecko/20100101 Firefox/46.0',\n",
    "})\n",
    "response.raise_for_status()         # Raise exception if invalid   response. \n",
    "#data = response.json()              # JSON decoding. "
   ]
  },
  {
   "cell_type": "markdown",
   "metadata": {},
   "source": [
    "## NBA Stats Scrape"
   ]
  },
  {
   "cell_type": "code",
   "execution_count": 5,
   "metadata": {},
   "outputs": [],
   "source": [
    "nba_stats_total_url = \"http://stats.nba.com/leaders/?Season=2017-18&SeasonType=Regular%20Season&PerMode=Totals\""
   ]
  },
  {
   "cell_type": "code",
   "execution_count": 6,
   "metadata": {},
   "outputs": [],
   "source": [
    "%matplotlib inline\n",
    "from selenium import webdriver\n",
    "from pandas import *\n",
    "import pandas\n",
    "import numpy as np\n",
    "import matplotlib.pyplot as plt\n",
    "from sqlalchemy import *"
   ]
  },
  {
   "cell_type": "code",
   "execution_count": 7,
   "metadata": {},
   "outputs": [],
   "source": [
    "## Set up chrome driver \n",
    "path_to_chromedriver = \"./web_scraping/chromedriver\"\n",
    "browser = webdriver.Chrome(executable_path=path_to_chromedriver)"
   ]
  },
  {
   "cell_type": "code",
   "execution_count": 8,
   "metadata": {},
   "outputs": [],
   "source": [
    "## Open browser connection\n",
    "url = 'https://stats.nba.com/leaders'\n",
    "browser.get(url)"
   ]
  },
  {
   "cell_type": "code",
   "execution_count": 9,
   "metadata": {},
   "outputs": [],
   "source": [
    "## Change the parameters to whatever you like\n",
    "\n",
    "## This is for the correct seasson year\n",
    "browser.find_element_by_xpath('/html/body/main/div[2]/div/div[2]/div/div/div[1]/div[2]/div/div/label/select/option[2]').click()\n",
    "## This is for \"all\" players option \n",
    "browser.find_element_by_xpath('/html/body/main/div[2]/div/div[2]/div/div/nba-stat-table/div[3]/div/div/select/option[1]').click()\n",
    "\n",
    "## Follow up, just need to prompt user to enter the season you want to look at and such."
   ]
  },
  {
   "cell_type": "code",
   "execution_count": 10,
   "metadata": {},
   "outputs": [],
   "source": [
    "# Get table from HTML\n",
    "table = browser.find_element_by_class_name('nba-stat-table__overflow')"
   ]
  },
  {
   "cell_type": "code",
   "execution_count": 11,
   "metadata": {},
   "outputs": [],
   "source": [
    "player_ids = []\n",
    "player_names = []\n",
    "player_stats = []\n",
    "\n",
    "for line_id, lines in enumerate(table.text.split('\\n')):\n",
    "    if line_id == 0:\n",
    "        column_names = lines.split(' ')[1:]\n",
    "    else:\n",
    "        if line_id % 3 == 1:\n",
    "            player_ids.append(lines)\n",
    "        if line_id % 3 == 2:\n",
    "            player_names.append(lines)\n",
    "        if line_id % 3 == 0:\n",
    "            player_stats.append( [float(i) for i in lines.split(' ')] )"
   ]
  },
  {
   "cell_type": "code",
   "execution_count": 12,
   "metadata": {},
   "outputs": [],
   "source": [
    "db = pandas.DataFrame({'player': player_names,\n",
    "                       'gp': [i[0] for i in player_stats],\n",
    "                       'min': [i[1] for i in player_stats],\n",
    "                       'pts': [i[2] for i in player_stats],\n",
    "                       'fgm': [i[3] for i in player_stats], \n",
    "                       'fga': [i[4] for i in player_stats],\n",
    "                       'fg%': [i[5] for i in player_stats],\n",
    "                       '3pm': [i[6] for i in player_stats],\n",
    "                       '3pa': [i[7] for i in player_stats],\n",
    "                       '3p%': [i[8] for i in player_stats],\n",
    "                       'ftm': [i[9] for i in player_stats],\n",
    "                       'fta': [i[10] for i in player_stats],\n",
    "                       'ft%': [i[11] for i in player_stats],\n",
    "                       'oreb': [i[12] for i in player_stats],\n",
    "                       'dreb': [i[13] for i in player_stats],\n",
    "                       'reb': [i[14] for i in player_stats],\n",
    "                       'ast': [i[15] for i in player_stats],\n",
    "                       'stl': [i[16] for i in player_stats],\n",
    "                       'blk': [i[17] for i in player_stats],\n",
    "                       'tov': [i[18] for i in player_stats],\n",
    "                       'eff': [i[19] for i in player_stats]\n",
    "                       }\n",
    "                     )"
   ]
  },
  {
   "cell_type": "code",
   "execution_count": 13,
   "metadata": {},
   "outputs": [],
   "source": [
    "db = db[['player', \n",
    "         'gp', \n",
    "         'min', \n",
    "         'pts', \n",
    "         'fgm', \n",
    "         'fga', \n",
    "         'fg%', \n",
    "         '3pm', \n",
    "         '3pa', \n",
    "         '3p%', \n",
    "         'ftm',\n",
    "         'fta', \n",
    "         'ft%', \n",
    "         'oreb', \n",
    "         'dreb',\n",
    "         'reb',\n",
    "         'ast',\n",
    "         'stl',\n",
    "         'blk',\n",
    "         'tov',\n",
    "         'eff']\n",
    "      ]"
   ]
  },
  {
   "cell_type": "code",
   "execution_count": 14,
   "metadata": {},
   "outputs": [
    {
     "data": {
      "text/html": [
       "<div>\n",
       "<style scoped>\n",
       "    .dataframe tbody tr th:only-of-type {\n",
       "        vertical-align: middle;\n",
       "    }\n",
       "\n",
       "    .dataframe tbody tr th {\n",
       "        vertical-align: top;\n",
       "    }\n",
       "\n",
       "    .dataframe thead th {\n",
       "        text-align: right;\n",
       "    }\n",
       "</style>\n",
       "<table border=\"1\" class=\"dataframe\">\n",
       "  <thead>\n",
       "    <tr style=\"text-align: right;\">\n",
       "      <th></th>\n",
       "      <th>player</th>\n",
       "      <th>gp</th>\n",
       "      <th>min</th>\n",
       "      <th>pts</th>\n",
       "      <th>fgm</th>\n",
       "      <th>fga</th>\n",
       "      <th>fg%</th>\n",
       "      <th>3pm</th>\n",
       "      <th>3pa</th>\n",
       "      <th>3p%</th>\n",
       "      <th>...</th>\n",
       "      <th>fta</th>\n",
       "      <th>ft%</th>\n",
       "      <th>oreb</th>\n",
       "      <th>dreb</th>\n",
       "      <th>reb</th>\n",
       "      <th>ast</th>\n",
       "      <th>stl</th>\n",
       "      <th>blk</th>\n",
       "      <th>tov</th>\n",
       "      <th>eff</th>\n",
       "    </tr>\n",
       "  </thead>\n",
       "  <tbody>\n",
       "    <tr>\n",
       "      <th>0</th>\n",
       "      <td>James Harden</td>\n",
       "      <td>72.0</td>\n",
       "      <td>35.4</td>\n",
       "      <td>30.4</td>\n",
       "      <td>9.0</td>\n",
       "      <td>20.1</td>\n",
       "      <td>44.9</td>\n",
       "      <td>3.7</td>\n",
       "      <td>10.0</td>\n",
       "      <td>36.7</td>\n",
       "      <td>...</td>\n",
       "      <td>10.1</td>\n",
       "      <td>85.8</td>\n",
       "      <td>0.6</td>\n",
       "      <td>4.8</td>\n",
       "      <td>5.4</td>\n",
       "      <td>8.8</td>\n",
       "      <td>1.8</td>\n",
       "      <td>0.7</td>\n",
       "      <td>4.4</td>\n",
       "      <td>30.1</td>\n",
       "    </tr>\n",
       "    <tr>\n",
       "      <th>1</th>\n",
       "      <td>Anthony Davis</td>\n",
       "      <td>75.0</td>\n",
       "      <td>36.4</td>\n",
       "      <td>28.1</td>\n",
       "      <td>10.4</td>\n",
       "      <td>19.5</td>\n",
       "      <td>53.4</td>\n",
       "      <td>0.7</td>\n",
       "      <td>2.2</td>\n",
       "      <td>34.0</td>\n",
       "      <td>...</td>\n",
       "      <td>8.0</td>\n",
       "      <td>82.8</td>\n",
       "      <td>2.5</td>\n",
       "      <td>8.6</td>\n",
       "      <td>11.1</td>\n",
       "      <td>2.3</td>\n",
       "      <td>1.5</td>\n",
       "      <td>2.6</td>\n",
       "      <td>2.2</td>\n",
       "      <td>33.0</td>\n",
       "    </tr>\n",
       "    <tr>\n",
       "      <th>2</th>\n",
       "      <td>LeBron James</td>\n",
       "      <td>82.0</td>\n",
       "      <td>36.9</td>\n",
       "      <td>27.5</td>\n",
       "      <td>10.5</td>\n",
       "      <td>19.3</td>\n",
       "      <td>54.2</td>\n",
       "      <td>1.8</td>\n",
       "      <td>5.0</td>\n",
       "      <td>36.7</td>\n",
       "      <td>...</td>\n",
       "      <td>6.5</td>\n",
       "      <td>73.1</td>\n",
       "      <td>1.2</td>\n",
       "      <td>7.5</td>\n",
       "      <td>8.6</td>\n",
       "      <td>9.1</td>\n",
       "      <td>1.4</td>\n",
       "      <td>0.9</td>\n",
       "      <td>4.2</td>\n",
       "      <td>32.7</td>\n",
       "    </tr>\n",
       "    <tr>\n",
       "      <th>3</th>\n",
       "      <td>Damian Lillard</td>\n",
       "      <td>73.0</td>\n",
       "      <td>36.6</td>\n",
       "      <td>26.9</td>\n",
       "      <td>8.5</td>\n",
       "      <td>19.4</td>\n",
       "      <td>43.9</td>\n",
       "      <td>3.1</td>\n",
       "      <td>8.6</td>\n",
       "      <td>36.1</td>\n",
       "      <td>...</td>\n",
       "      <td>7.4</td>\n",
       "      <td>91.6</td>\n",
       "      <td>0.8</td>\n",
       "      <td>3.6</td>\n",
       "      <td>4.5</td>\n",
       "      <td>6.6</td>\n",
       "      <td>1.1</td>\n",
       "      <td>0.4</td>\n",
       "      <td>2.8</td>\n",
       "      <td>25.0</td>\n",
       "    </tr>\n",
       "    <tr>\n",
       "      <th>4</th>\n",
       "      <td>Giannis Antetokounmpo</td>\n",
       "      <td>75.0</td>\n",
       "      <td>36.7</td>\n",
       "      <td>26.9</td>\n",
       "      <td>9.9</td>\n",
       "      <td>18.7</td>\n",
       "      <td>52.9</td>\n",
       "      <td>0.6</td>\n",
       "      <td>1.9</td>\n",
       "      <td>30.7</td>\n",
       "      <td>...</td>\n",
       "      <td>8.5</td>\n",
       "      <td>76.0</td>\n",
       "      <td>2.1</td>\n",
       "      <td>8.0</td>\n",
       "      <td>10.0</td>\n",
       "      <td>4.8</td>\n",
       "      <td>1.5</td>\n",
       "      <td>1.4</td>\n",
       "      <td>3.0</td>\n",
       "      <td>30.7</td>\n",
       "    </tr>\n",
       "  </tbody>\n",
       "</table>\n",
       "<p>5 rows × 21 columns</p>\n",
       "</div>"
      ],
      "text/plain": [
       "                  player    gp   min   pts   fgm   fga   fg%  3pm   3pa   3p%  \\\n",
       "0           James Harden  72.0  35.4  30.4   9.0  20.1  44.9  3.7  10.0  36.7   \n",
       "1          Anthony Davis  75.0  36.4  28.1  10.4  19.5  53.4  0.7   2.2  34.0   \n",
       "2           LeBron James  82.0  36.9  27.5  10.5  19.3  54.2  1.8   5.0  36.7   \n",
       "3         Damian Lillard  73.0  36.6  26.9   8.5  19.4  43.9  3.1   8.6  36.1   \n",
       "4  Giannis Antetokounmpo  75.0  36.7  26.9   9.9  18.7  52.9  0.6   1.9  30.7   \n",
       "\n",
       "   ...    fta   ft%  oreb  dreb   reb  ast  stl  blk  tov   eff  \n",
       "0  ...   10.1  85.8   0.6   4.8   5.4  8.8  1.8  0.7  4.4  30.1  \n",
       "1  ...    8.0  82.8   2.5   8.6  11.1  2.3  1.5  2.6  2.2  33.0  \n",
       "2  ...    6.5  73.1   1.2   7.5   8.6  9.1  1.4  0.9  4.2  32.7  \n",
       "3  ...    7.4  91.6   0.8   3.6   4.5  6.6  1.1  0.4  2.8  25.0  \n",
       "4  ...    8.5  76.0   2.1   8.0  10.0  4.8  1.5  1.4  3.0  30.7  \n",
       "\n",
       "[5 rows x 21 columns]"
      ]
     },
     "execution_count": 14,
     "metadata": {},
     "output_type": "execute_result"
    }
   ],
   "source": [
    "db.head()"
   ]
  },
  {
   "cell_type": "markdown",
   "metadata": {},
   "source": [
    "Next (Data Storage): \n",
    "Each player in a row: features including defense\n",
    "Team stats + have an accurate list of who's on what team\n",
    "NBA Schedule so you know what to run it on\n",
    "\n",
    "Next next (Math/Competition Structure):\n",
    "fan duel formula, what's being predicted, etc.\n",
    "\n",
    "customize minutes\n",
    "run individual games instead of all at once\n",
    "    Early slate: 700pm games, etc. \n",
    "    SC Questionable for 10pm game, don't put him in lineups late slight bc who knows if he'll play\n",
    "    \n",
    "## Scrape the box scores"
   ]
  },
  {
   "cell_type": "code",
   "execution_count": 16,
   "metadata": {},
   "outputs": [],
   "source": [
    "browser2 = webdriver.Chrome(executable_path=path_to_chromedriver)"
   ]
  },
  {
   "cell_type": "markdown",
   "metadata": {},
   "source": [
    "Categorizing players then try to find ts for their minutes"
   ]
  },
  {
   "cell_type": "code",
   "execution_count": 19,
   "metadata": {},
   "outputs": [],
   "source": [
    "rg_url_1 = \"https://rotogrinders.com/grids/nba-defense-vs-position-cheat-sheet-1493632?site=fanduel\"\n",
    "rg_url_2 = \"https://rotogrinders.com/game-stats/nba/consistency\""
   ]
  },
  {
   "cell_type": "code",
   "execution_count": 21,
   "metadata": {},
   "outputs": [],
   "source": [
    "browser2.get(rg_url_2)"
   ]
  },
  {
   "cell_type": "code",
   "execution_count": 37,
   "metadata": {},
   "outputs": [],
   "source": [
    "from bs4 import BeautifulSoup\n",
    "import urllib3\n",
    "\n",
    "http = urllib3.PoolManager()\n",
    "\n",
    "response1 = http.request('GET', rg_url_1)\n",
    "rg1_soup = BeautifulSoup(response1.data, 'html.parser')\n",
    "\n",
    "response2 = http.request('GET', rg_url_2)\n",
    "rg2_soup = BeautifulSoup(response2.data, 'html.parser')"
   ]
  },
  {
   "cell_type": "code",
   "execution_count": 84,
   "metadata": {},
   "outputs": [],
   "source": [
    "x = rg2_soup.find(\"div\", attrs={\"class\": \"rgt-col\"})"
   ]
  },
  {
   "cell_type": "code",
   "execution_count": 60,
   "metadata": {},
   "outputs": [],
   "source": [
    "# We do need to use chromdriver to click \"all\" on this website\n",
    "# And also need to click \"Last 2 seasons\""
   ]
  },
  {
   "cell_type": "markdown",
   "metadata": {},
   "source": [
    "## ESPN Data"
   ]
  },
  {
   "cell_type": "code",
   "execution_count": 88,
   "metadata": {},
   "outputs": [],
   "source": [
    "espn_url = \"http://www.espn.com/nba/statistics/rpm/_/sort/RPM\"\n",
    "espn_data = pd.read_html(espn_url)[0]\n",
    "espn_data.columns = espn_data.iloc[0,:].tolist()\n",
    "espn_data = espn_data.iloc[1:,:]\n",
    "espn_data.index = pd.RangeIndex(0, len(espn_data))\n",
    "needed_espn_data = espn_data[ [\"NAME\", \"ORPM\", \"DRPM\", \"RPM\", \"WINS\"] ]"
   ]
  },
  {
   "cell_type": "code",
   "execution_count": null,
   "metadata": {},
   "outputs": [],
   "source": []
  }
 ],
 "metadata": {
  "kernelspec": {
   "display_name": "Python 3",
   "language": "python",
   "name": "python3"
  },
  "language_info": {
   "codemirror_mode": {
    "name": "ipython",
    "version": 3
   },
   "file_extension": ".py",
   "mimetype": "text/x-python",
   "name": "python",
   "nbconvert_exporter": "python",
   "pygments_lexer": "ipython3",
   "version": "3.6.3"
  }
 },
 "nbformat": 4,
 "nbformat_minor": 2
}
