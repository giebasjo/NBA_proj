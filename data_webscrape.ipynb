{
 "cells": [
  {
   "cell_type": "code",
   "execution_count": 2,
   "metadata": {},
   "outputs": [],
   "source": [
    "# Import packages\n",
    "import pandas as pd\n",
    "import numpy as np\n",
    "import matplotlib.pyplot as plt\n",
    "import seaborn as sns; sns.set()"
   ]
  },
  {
   "cell_type": "code",
   "execution_count": 19,
   "metadata": {},
   "outputs": [],
   "source": [
    "# Load data for each of the https://www.basketball-reference.com/ sites\n",
    "br_per100_url = \"https://www.basketball-reference.com/leagues/NBA_2018_per_poss.html\"\n",
    "br_per100_data = pd.read_html(br_per100_url)[0]\n",
    "\n",
    "br_adv_url  = \"https://www.basketball-reference.com/leagues/NBA_2018_advanced.html\"\n",
    "br_adv_data = pd.read_html(br_adv_url)[0]\n",
    "\n",
    "br_tot_url = \"https://www.basketball-reference.com/leagues/NBA_2018_totals.html\"\n",
    "br_tot_data = pd.read_html(br_tot_url)[0]"
   ]
  },
  {
   "cell_type": "code",
   "execution_count": 20,
   "metadata": {},
   "outputs": [
    {
     "data": {
      "text/html": [
       "<div>\n",
       "<style scoped>\n",
       "    .dataframe tbody tr th:only-of-type {\n",
       "        vertical-align: middle;\n",
       "    }\n",
       "\n",
       "    .dataframe tbody tr th {\n",
       "        vertical-align: top;\n",
       "    }\n",
       "\n",
       "    .dataframe thead th {\n",
       "        text-align: right;\n",
       "    }\n",
       "</style>\n",
       "<table border=\"1\" class=\"dataframe\">\n",
       "  <thead>\n",
       "    <tr style=\"text-align: right;\">\n",
       "      <th></th>\n",
       "      <th>Rk</th>\n",
       "      <th>Player</th>\n",
       "      <th>Pos</th>\n",
       "      <th>Age</th>\n",
       "      <th>Tm</th>\n",
       "      <th>G</th>\n",
       "      <th>GS</th>\n",
       "      <th>MP</th>\n",
       "      <th>FG</th>\n",
       "      <th>FGA</th>\n",
       "      <th>...</th>\n",
       "      <th>TRB</th>\n",
       "      <th>AST</th>\n",
       "      <th>STL</th>\n",
       "      <th>BLK</th>\n",
       "      <th>TOV</th>\n",
       "      <th>PF</th>\n",
       "      <th>PTS</th>\n",
       "      <th>Unnamed: 29</th>\n",
       "      <th>ORtg</th>\n",
       "      <th>DRtg</th>\n",
       "    </tr>\n",
       "  </thead>\n",
       "  <tbody>\n",
       "    <tr>\n",
       "      <th>0</th>\n",
       "      <td>1</td>\n",
       "      <td>Alex Abrines</td>\n",
       "      <td>SG</td>\n",
       "      <td>24</td>\n",
       "      <td>OKC</td>\n",
       "      <td>75</td>\n",
       "      <td>8</td>\n",
       "      <td>1134</td>\n",
       "      <td>5.0</td>\n",
       "      <td>12.7</td>\n",
       "      <td>...</td>\n",
       "      <td>5.0</td>\n",
       "      <td>1.2</td>\n",
       "      <td>1.7</td>\n",
       "      <td>0.4</td>\n",
       "      <td>1.1</td>\n",
       "      <td>5.4</td>\n",
       "      <td>15.4</td>\n",
       "      <td>NaN</td>\n",
       "      <td>116</td>\n",
       "      <td>110</td>\n",
       "    </tr>\n",
       "    <tr>\n",
       "      <th>1</th>\n",
       "      <td>2</td>\n",
       "      <td>Quincy Acy</td>\n",
       "      <td>PF</td>\n",
       "      <td>27</td>\n",
       "      <td>BRK</td>\n",
       "      <td>70</td>\n",
       "      <td>8</td>\n",
       "      <td>1359</td>\n",
       "      <td>4.6</td>\n",
       "      <td>13.0</td>\n",
       "      <td>...</td>\n",
       "      <td>9.1</td>\n",
       "      <td>2.0</td>\n",
       "      <td>1.2</td>\n",
       "      <td>1.0</td>\n",
       "      <td>2.1</td>\n",
       "      <td>5.3</td>\n",
       "      <td>14.7</td>\n",
       "      <td>NaN</td>\n",
       "      <td>99</td>\n",
       "      <td>110</td>\n",
       "    </tr>\n",
       "    <tr>\n",
       "      <th>2</th>\n",
       "      <td>3</td>\n",
       "      <td>Steven Adams</td>\n",
       "      <td>C</td>\n",
       "      <td>24</td>\n",
       "      <td>OKC</td>\n",
       "      <td>76</td>\n",
       "      <td>76</td>\n",
       "      <td>2487</td>\n",
       "      <td>8.9</td>\n",
       "      <td>14.2</td>\n",
       "      <td>...</td>\n",
       "      <td>13.7</td>\n",
       "      <td>1.8</td>\n",
       "      <td>1.8</td>\n",
       "      <td>1.6</td>\n",
       "      <td>2.6</td>\n",
       "      <td>4.3</td>\n",
       "      <td>21.1</td>\n",
       "      <td>NaN</td>\n",
       "      <td>125</td>\n",
       "      <td>107</td>\n",
       "    </tr>\n",
       "    <tr>\n",
       "      <th>3</th>\n",
       "      <td>4</td>\n",
       "      <td>Bam Adebayo</td>\n",
       "      <td>C</td>\n",
       "      <td>20</td>\n",
       "      <td>MIA</td>\n",
       "      <td>69</td>\n",
       "      <td>19</td>\n",
       "      <td>1368</td>\n",
       "      <td>6.4</td>\n",
       "      <td>12.5</td>\n",
       "      <td>...</td>\n",
       "      <td>14.0</td>\n",
       "      <td>3.7</td>\n",
       "      <td>1.2</td>\n",
       "      <td>1.5</td>\n",
       "      <td>2.4</td>\n",
       "      <td>5.1</td>\n",
       "      <td>17.5</td>\n",
       "      <td>NaN</td>\n",
       "      <td>116</td>\n",
       "      <td>105</td>\n",
       "    </tr>\n",
       "    <tr>\n",
       "      <th>4</th>\n",
       "      <td>5</td>\n",
       "      <td>Arron Afflalo</td>\n",
       "      <td>SG</td>\n",
       "      <td>32</td>\n",
       "      <td>ORL</td>\n",
       "      <td>53</td>\n",
       "      <td>3</td>\n",
       "      <td>682</td>\n",
       "      <td>4.7</td>\n",
       "      <td>11.6</td>\n",
       "      <td>...</td>\n",
       "      <td>4.7</td>\n",
       "      <td>2.2</td>\n",
       "      <td>0.3</td>\n",
       "      <td>0.6</td>\n",
       "      <td>1.5</td>\n",
       "      <td>4.0</td>\n",
       "      <td>12.8</td>\n",
       "      <td>NaN</td>\n",
       "      <td>98</td>\n",
       "      <td>115</td>\n",
       "    </tr>\n",
       "  </tbody>\n",
       "</table>\n",
       "<p>5 rows × 32 columns</p>\n",
       "</div>"
      ],
      "text/plain": [
       "  Rk         Player Pos Age   Tm   G  GS    MP   FG   FGA ...    TRB  AST  \\\n",
       "0  1   Alex Abrines  SG  24  OKC  75   8  1134  5.0  12.7 ...    5.0  1.2   \n",
       "1  2     Quincy Acy  PF  27  BRK  70   8  1359  4.6  13.0 ...    9.1  2.0   \n",
       "2  3   Steven Adams   C  24  OKC  76  76  2487  8.9  14.2 ...   13.7  1.8   \n",
       "3  4    Bam Adebayo   C  20  MIA  69  19  1368  6.4  12.5 ...   14.0  3.7   \n",
       "4  5  Arron Afflalo  SG  32  ORL  53   3   682  4.7  11.6 ...    4.7  2.2   \n",
       "\n",
       "   STL  BLK  TOV   PF   PTS Unnamed: 29 ORtg DRtg  \n",
       "0  1.7  0.4  1.1  5.4  15.4         NaN  116  110  \n",
       "1  1.2  1.0  2.1  5.3  14.7         NaN   99  110  \n",
       "2  1.8  1.6  2.6  4.3  21.1         NaN  125  107  \n",
       "3  1.2  1.5  2.4  5.1  17.5         NaN  116  105  \n",
       "4  0.3  0.6  1.5  4.0  12.8         NaN   98  115  \n",
       "\n",
       "[5 rows x 32 columns]"
      ]
     },
     "execution_count": 20,
     "metadata": {},
     "output_type": "execute_result"
    }
   ],
   "source": [
    "br_per100_data.head()"
   ]
  },
  {
   "cell_type": "code",
   "execution_count": 30,
   "metadata": {},
   "outputs": [],
   "source": [
    "import requests\n",
    "\n",
    "# Load data for each of the http://stats.nba.com/leaders/\n",
    "nba_stats_total_url = \"http://stats.nba.com/leaders/?Season=2017-18&SeasonType=Regular%20Season&PerMode=Totals\"\n",
    "address = nba_stats_total_url\n",
    "\n",
    "response = requests.get(address, headers={\n",
    "    'User-Agent': 'Mozilla/5.0 (X11; Ubuntu; Linux x86_64; rv:46.0) Gecko/20100101 Firefox/46.0',\n",
    "})\n",
    "response.raise_for_status()         # Raise exception if invalid   response. \n",
    "#data = response.json()              # JSON decoding. "
   ]
  },
  {
   "cell_type": "code",
   "execution_count": 37,
   "metadata": {},
   "outputs": [],
   "source": [
    "from urllib.request import urlopen\n",
    "from bs4 import BeautifulSoup\n",
    "\n",
    "page = urlopen(nba_stats_total_url)\n",
    "soup = BeautifulSoup(page, \"html.parser\")"
   ]
  },
  {
   "cell_type": "code",
   "execution_count": 39,
   "metadata": {},
   "outputs": [
    {
     "data": {
      "text/plain": [
       "<nba-stat-table filters=\"filters\" ng-if=\"!isLoading &amp;&amp; !noData\" params=\"params\" rows=\"playerStats\" template=\"players/players-leaders\"></nba-stat-table>"
      ]
     },
     "execution_count": 39,
     "metadata": {},
     "output_type": "execute_result"
    }
   ],
   "source": [
    "soup.find(\"nba-stat-table\")"
   ]
  },
  {
   "cell_type": "code",
   "execution_count": 45,
   "metadata": {},
   "outputs": [],
   "source": [
    "name_box = soup.find(\"div\", attrs={\"class\": \"nba-stat-table\"})"
   ]
  },
  {
   "cell_type": "code",
   "execution_count": null,
   "metadata": {},
   "outputs": [],
   "source": []
  },
  {
   "cell_type": "code",
   "execution_count": null,
   "metadata": {},
   "outputs": [],
   "source": []
  },
  {
   "cell_type": "code",
   "execution_count": null,
   "metadata": {},
   "outputs": [],
   "source": []
  },
  {
   "cell_type": "code",
   "execution_count": null,
   "metadata": {},
   "outputs": [],
   "source": []
  },
  {
   "cell_type": "code",
   "execution_count": null,
   "metadata": {},
   "outputs": [],
   "source": []
  },
  {
   "cell_type": "code",
   "execution_count": null,
   "metadata": {},
   "outputs": [],
   "source": []
  },
  {
   "cell_type": "code",
   "execution_count": null,
   "metadata": {},
   "outputs": [],
   "source": []
  },
  {
   "cell_type": "code",
   "execution_count": null,
   "metadata": {},
   "outputs": [],
   "source": []
  }
 ],
 "metadata": {
  "kernelspec": {
   "display_name": "Python 3",
   "language": "python",
   "name": "python3"
  },
  "language_info": {
   "codemirror_mode": {
    "name": "ipython",
    "version": 3
   },
   "file_extension": ".py",
   "mimetype": "text/x-python",
   "name": "python",
   "nbconvert_exporter": "python",
   "pygments_lexer": "ipython3",
   "version": "3.6.3"
  }
 },
 "nbformat": 4,
 "nbformat_minor": 2
}
