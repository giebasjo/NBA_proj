{
 "cells": [
  {
   "cell_type": "markdown",
   "metadata": {},
   "source": [
    "# NBA.com/stats scrape\n",
    "\n",
    "Since there are so many different urls to scrape related to nba.com/stats (see below), I thought it might be a good idea to put the scraping of this data source into one notebook, then we can combine everything later. <br>\n",
    "\n",
    "The urls are \n",
    "\n",
    "<ol>\n",
    "    <li>http://stats.nba.com/players/usage/</li>\n",
    "    <li>http://stats.nba.com/players/rebounding/</li>\n",
    "    <li>http://stats.nba.com/players/opponent/?sort=GP&dir=-1</li>\n",
    "    <li>http://stats.nba.com/players/defense/</li>\n",
    "    <li>http://stats.nba.com/players/advanced/?sort=GP&dir=-1</li>\n",
    "    <li>http://stats.nba.com/players/touches/</li>\n",
    "    <li>http://stats.nba.com/players/speed-distance/</li>\n",
    "    <li>http://stats.nba.com/players/defense-dash-overall/</li>\n",
    "</ol>\n",
    "\n",
    "Let's do them one-by-one in order."
   ]
  },
  {
   "cell_type": "markdown",
   "metadata": {},
   "source": [
    "## Data Ingestion"
   ]
  },
  {
   "cell_type": "code",
   "execution_count": 1,
   "metadata": {},
   "outputs": [],
   "source": [
    "# Import modules needed for everything\n",
    "import pandas as pd\n",
    "import numpy as np\n",
    "import matplotlib.pyplot as plt\n",
    "import seaborn as sns; sns.set()\n",
    "\n",
    "# Fuck warnings\n",
    "import warnings\n",
    "warnings.filterwarnings('ignore')\n",
    "\n",
    "# mas\n",
    "%matplotlib inline\n",
    "from selenium import webdriver\n",
    "from pandas import *\n",
    "import pandas\n",
    "import numpy as np\n",
    "import matplotlib.pyplot as plt\n",
    "from sqlalchemy import *\n",
    "import time"
   ]
  },
  {
   "cell_type": "markdown",
   "metadata": {},
   "source": [
    "## URL1: http://stats.nba.com/players/usage/"
   ]
  },
  {
   "cell_type": "code",
   "execution_count": null,
   "metadata": {},
   "outputs": [],
   "source": [
    "# Define url\n",
    "url = \"http://stats.nba.com/players/usage/\"\n",
    "\n",
    "## Set up chrome driver, open browser\n",
    "path_to_chromedriver = \"./web_scraping/chromedriver\"\n",
    "browser = webdriver.Chrome(executable_path=path_to_chromedriver)\n",
    "browser.get(url)\n",
    "\n",
    "## Need to alter the (i.e. season: 2017-18, season type: Regular Season, Season Segment: All Games)\n",
    "## This should be mutable by the user though.... (to whatever kevin specifies really) pass into option\n",
    "\n",
    "# 2017-2018\n",
    "browser.find_element_by_xpath(\"/html/body/main/div[2]/div/div[2]/div/div/div[1]/div[1]/div/div/label/select/option[2]\").click()\n",
    "# Regular Season\n",
    "browser.find_element_by_xpath(\"/html/body/main/div[2]/div/div[2]/div/div/div[1]/div[2]/div/div/label/select/option[2]\").click()\n",
    "# Get all data\n",
    "browser.find_element_by_xpath(\"/html/body/main/div[2]/div/div[2]/div/div/nba-stat-table/div[3]/div/div/select/option[1]\").click()"
   ]
  },
  {
   "cell_type": "code",
   "execution_count": null,
   "metadata": {},
   "outputs": [],
   "source": [
    "# Grab data from browser\n",
    "table = browser.find_element_by_class_name('nba-stat-table__overflow')\n",
    "needed_stat_args = [8,10] + [i for i in range(12,20)] + [23]\n",
    "\n",
    "# Containers\n",
    "player_names = []\n",
    "player_stats = []\n",
    "\n",
    "cols = ['%FGA','%3PA','%FTA','%OREB','%DREB','%REB','%AST','%TOV','%STL','%BLK','%PTS']\n",
    "data = table.text.split('\\n')[1:]\n",
    "\n",
    "# Populate containers\n",
    "for idx, elm in enumerate(data):\n",
    "    if idx % 3 == 1:\n",
    "        player_names.append( elm )\n",
    "    if idx % 3 == 2:\n",
    "        player_stats.append( np.array(elm.split(\" \"))[needed_stat_args] )"
   ]
  },
  {
   "cell_type": "code",
   "execution_count": null,
   "metadata": {},
   "outputs": [],
   "source": [
    "df = pd.DataFrame(columns=[\"PLAYER\"] + cols)\n",
    "for i, col in enumerate(df.columns):\n",
    "    if col == \"PLAYER\":\n",
    "        df[col] = player_names\n",
    "    else:\n",
    "        df[col] = [j[i-1] for j in player_stats]"
   ]
  },
  {
   "cell_type": "code",
   "execution_count": null,
   "metadata": {},
   "outputs": [],
   "source": [
    "df.head()"
   ]
  },
  {
   "cell_type": "markdown",
   "metadata": {},
   "source": [
    "## URL2: http://stats.nba.com/players/rebounding/"
   ]
  },
  {
   "cell_type": "code",
   "execution_count": null,
   "metadata": {},
   "outputs": [],
   "source": [
    "# Define url\n",
    "url = \"http://stats.nba.com/players/rebounding/\"\n",
    "\n",
    "## Set up chrome driver, open browser\n",
    "path_to_chromedriver = \"./web_scraping/chromedriver\"\n",
    "browser = webdriver.Chrome(executable_path=path_to_chromedriver)\n",
    "browser.get(url)"
   ]
  },
  {
   "cell_type": "code",
   "execution_count": null,
   "metadata": {},
   "outputs": [],
   "source": [
    "## Need to alter the (i.e. season: 2017-18, season type: Regular Season, Season Segment: All Games)\n",
    "## This should be mutable by the user though.... (to whatever kevin specifies really) pass into option\n",
    "\n",
    "# 2017-2018\n",
    "browser.find_element_by_xpath(\"/html/body/main/div[2]/div/div[2]/div/div/div[1]/div[1]/div/div/label/select/option[1]\").click()\n",
    "# Regular Season\n",
    "browser.find_element_by_xpath(\"/html/body/main/div[2]/div/div[2]/div/div/div[1]/div[2]/div/div/label/select/option[2]\").click()\n",
    "# Per Game\n",
    "browser.find_element_by_xpath(\"/html/body/main/div[2]/div/div[2]/div/div/div[1]/div[3]/div/div/label/select/option[2]\").click()\n",
    "# All data\n",
    "browser.find_element_by_xpath(\"/html/body/main/div[2]/div/div[2]/div/div/nba-stat-table/div[3]/div/div/select/option[1]\").click()"
   ]
  },
  {
   "cell_type": "code",
   "execution_count": null,
   "metadata": {},
   "outputs": [],
   "source": [
    "table = browser.find_element_by_class_name('table')\n",
    "needed_stat_args = [6,7,8,9]\n",
    "\n",
    "# Containers\n",
    "player_ids = []\n",
    "player_names = []\n",
    "player_stats = []\n",
    "\n",
    "cols = [\"Consested_REB\", \"Consested_REB%\", \"REB_changes\", \"REB_changes%\"]\n",
    "data = table.text.split('\\n')[8:]\n",
    "\n",
    "# Populate containers\n",
    "for idx, elm in enumerate(data):\n",
    "    \n",
    "    if idx % 2 == 0:\n",
    "        player_names.append( elm )\n",
    "    else:\n",
    "        player_stats.append( np.array(elm.split(\" \"))[needed_stat_args] )"
   ]
  },
  {
   "cell_type": "code",
   "execution_count": null,
   "metadata": {},
   "outputs": [],
   "source": [
    "df = pd.DataFrame(columns=[\"PLAYER\"] + cols)\n",
    "for i, col in enumerate(df.columns):\n",
    "    if col == \"PLAYER\":\n",
    "        df[col] = player_names\n",
    "    else:\n",
    "        df[col] = [j[i-1] for j in player_stats]"
   ]
  },
  {
   "cell_type": "markdown",
   "metadata": {},
   "source": [
    "## URL3 : http://stats.nba.com/players/opponent/?sort=GP&dir=-1"
   ]
  },
  {
   "cell_type": "code",
   "execution_count": null,
   "metadata": {},
   "outputs": [],
   "source": [
    "# Define url\n",
    "url = \"http://stats.nba.com/players/opponent/\"\n",
    "\n",
    "## Set up chrome driver, open browser\n",
    "path_to_chromedriver = \"./web_scraping/chromedriver\"\n",
    "browser = webdriver.Chrome(executable_path=path_to_chromedriver)\n",
    "browser.get(url)"
   ]
  },
  {
   "cell_type": "code",
   "execution_count": null,
   "metadata": {},
   "outputs": [],
   "source": [
    "## Need to alter the (i.e. season: 2017-18, season type: Regular Season, Season Segment: All Games)\n",
    "## This should be mutable by the user though.... (to whatever kevin specifies really) pass into option\n",
    "\n",
    "# 2017-2018\n",
    "browser.find_element_by_xpath(\"/html/body/main/div[2]/div/div[2]/div/div/div[1]/div[1]/div/div/label/select/option[2]\").click()\n",
    "# Regular Season\n",
    "browser.find_element_by_xpath(\"/html/body/main/div[2]/div/div[2]/div/div/div[1]/div[2]/div/div/label/select/option[2]\").click()\n",
    "# Per 100 poss\n",
    "browser.find_element_by_xpath(\"/html/body/main/div[2]/div/div[2]/div/div/div[1]/div[3]/div/div/label/select/option[3]\").click()\n",
    "# All Data\n",
    "browser.find_element_by_xpath(\"/html/body/main/div[2]/div/div[2]/div/div/nba-stat-table/div[3]/div/div/select/option[1]\").click()"
   ]
  },
  {
   "cell_type": "code",
   "execution_count": null,
   "metadata": {},
   "outputs": [],
   "source": [
    "table = browser.find_element_by_class_name('nba-stat-table__overflow')\n",
    "needed_stat_args = [6,7,9,10,12] + [x for x in range(14,21)] + [24,25]\n",
    "\n",
    "# Containers\n",
    "player_names = []\n",
    "player_stats = []\n",
    "\n",
    "cols = [\"opp_FGA/100p\",\"opp_FG%\",\"opp_3PA/100p\",\"opp_3P%\",\"opp_FTA/100p\",\"opp_OREB/100p\",\"opp_DREB/100p\",\\\n",
    "\"opp_REB/100p\", \"opp_AST/100p\",\"opp_TOV/100p\", \"opp_STL/100p\", \"opp_BLK/100p\", \\\n",
    "\"opp_PTS/100p\", \"opp_plusminus/100p\"]\n",
    "\n",
    "data = table.text.split('\\n')[40:]\n",
    "\n",
    "# Populate containers\n",
    "for idx, elm in enumerate(data):\n",
    "    \n",
    "    if idx % 3 == 1:\n",
    "        player_names.append( elm )\n",
    "    elif idx % 3 == 2:\n",
    "        player_stats.append( np.array(elm.split(\" \"))[needed_stat_args] )"
   ]
  },
  {
   "cell_type": "code",
   "execution_count": null,
   "metadata": {},
   "outputs": [],
   "source": [
    "df = pd.DataFrame(columns=[\"PLAYER\"] + cols)\n",
    "for i, col in enumerate(df.columns):\n",
    "    if col == \"PLAYER\":\n",
    "        df[col] = player_names\n",
    "    else:\n",
    "        df[col] = [j[i-1] for j in player_stats]"
   ]
  },
  {
   "cell_type": "markdown",
   "metadata": {},
   "source": [
    "## URL4 : http://stats.nba.com/players/defense/"
   ]
  },
  {
   "cell_type": "code",
   "execution_count": null,
   "metadata": {},
   "outputs": [],
   "source": [
    "# Define url\n",
    "url = \"http://stats.nba.com/players/defense/\"\n",
    "\n",
    "## Set up chrome driver, open browser\n",
    "path_to_chromedriver = \"./web_scraping/chromedriver\"\n",
    "browser = webdriver.Chrome(executable_path=path_to_chromedriver)\n",
    "browser.get(url)"
   ]
  },
  {
   "cell_type": "code",
   "execution_count": null,
   "metadata": {},
   "outputs": [],
   "source": [
    "## Need to alter the (i.e. season: 2017-18, season type: Regular Season, Season Segment: All Games)\n",
    "## This should be mutable by the user though.... (to whatever kevin specifies really) pass into option\n",
    "\n",
    "# 2017-2018\n",
    "browser.find_element_by_xpath(\"/html/body/main/div[2]/div/div[2]/div/div/div[1]/div[1]/div/div/label/select/option[2]\").click()\n",
    "# Regular Season\n",
    "browser.find_element_by_xpath(\"/html/body/main/div[2]/div/div[2]/div/div/div[1]/div[2]/div/div/label/select/option[2]\").click()\n",
    "# Per 100 poss\n",
    "browser.find_element_by_xpath(\"/html/body/main/div[2]/div/div[2]/div/div/div[1]/div[3]/div/div/label/select/option[3]\").click()\n",
    "# All Data\n",
    "browser.find_element_by_xpath(\"/html/body/main/div[2]/div/div[2]/div/div/nba-stat-table/div[3]/div/div/select/option[1]\").click()"
   ]
  },
  {
   "cell_type": "code",
   "execution_count": null,
   "metadata": {},
   "outputs": [],
   "source": [
    "table = browser.find_element_by_class_name('nba-stat-table__overflow')\n",
    "needed_stat_args = [-1]\n",
    "\n",
    "# Containers\n",
    "player_names = []\n",
    "player_stats = []\n",
    "\n",
    "cols = [\"Def_WS/100p\"]\n",
    "data = table.text.split('\\n')[10:]\n",
    "\n",
    "# Populate containers\n",
    "for idx, elm in enumerate(data):\n",
    "    \n",
    "    if idx % 3 == 1:\n",
    "        player_names.append( elm )\n",
    "    elif idx % 3 == 2:\n",
    "        player_stats.append( np.array(elm.split(\" \"))[needed_stat_args] )"
   ]
  },
  {
   "cell_type": "code",
   "execution_count": null,
   "metadata": {},
   "outputs": [],
   "source": [
    "df = pd.DataFrame(columns=[\"PLAYER\"] + cols)\n",
    "for i, col in enumerate(df.columns):\n",
    "    if col == \"PLAYER\":\n",
    "        df[col] = player_names\n",
    "    else:\n",
    "        df[col] = [j[i-1] for j in player_stats]"
   ]
  },
  {
   "cell_type": "markdown",
   "metadata": {},
   "source": [
    "## URL5 : http://stats.nba.com/players/advanced/"
   ]
  },
  {
   "cell_type": "code",
   "execution_count": null,
   "metadata": {},
   "outputs": [],
   "source": [
    "# Define url\n",
    "url = \"http://stats.nba.com/players/advanced/\"\n",
    "\n",
    "## Set up chrome driver, open browser\n",
    "path_to_chromedriver = \"./web_scraping/chromedriver\"\n",
    "browser = webdriver.Chrome(executable_path=path_to_chromedriver)\n",
    "browser.get(url)"
   ]
  },
  {
   "cell_type": "code",
   "execution_count": null,
   "metadata": {},
   "outputs": [],
   "source": [
    "## Need to alter the (i.e. season: 2017-18, season type: Regular Season, Season Segment: All Games)\n",
    "## This should be mutable by the user though.... (to whatever kevin specifies really) pass into option\n",
    "\n",
    "# 2017-2018\n",
    "browser.find_element_by_xpath(\"/html/body/main/div[2]/div/div[2]/div/div/div[1]/div[1]/div/div/label/select/option[2]\").click()\n",
    "# Regular Season\n",
    "browser.find_element_by_xpath(\"/html/body/main/div[2]/div/div[2]/div/div/div[1]/div[2]/div/div/label/select/option[2]\").click()\n",
    "# All Data\n",
    "browser.find_element_by_xpath(\"/html/body/main/div[2]/div/div[2]/div/div/nba-stat-table/div[3]/div/div/select/option[1]\").click()"
   ]
  },
  {
   "cell_type": "code",
   "execution_count": null,
   "metadata": {},
   "outputs": [],
   "source": [
    "table = browser.find_element_by_class_name('nba-stat-table__overflow')\n",
    "needed_stat_args = [15,11,19,20]\n",
    "\n",
    "# Containers\n",
    "player_names = []\n",
    "player_stats = []\n",
    "\n",
    "cols = [\"TO_ratio\", \"AST_ratio\", \"Pace\", \"PIE\"]\n",
    "data = table.text.split(\"\\n\")[1:]\n",
    "\n",
    "# Populate containers\n",
    "for idx, elm in enumerate(data):\n",
    "    if idx % 3 == 1:\n",
    "        player_names.append( elm )\n",
    "    elif idx % 3 == 2:\n",
    "        player_stats.append( np.array(elm.split(\" \"))[needed_stat_args] )"
   ]
  },
  {
   "cell_type": "code",
   "execution_count": null,
   "metadata": {},
   "outputs": [],
   "source": [
    "df = pd.DataFrame(columns=[\"PLAYER\"] + cols)\n",
    "for i, col in enumerate(df.columns):\n",
    "    if col == \"PLAYER\":\n",
    "        df[col] = player_names\n",
    "    else:\n",
    "        df[col] = [j[i-1] for j in player_stats]"
   ]
  },
  {
   "cell_type": "code",
   "execution_count": null,
   "metadata": {},
   "outputs": [],
   "source": [
    "df.head()"
   ]
  },
  {
   "cell_type": "markdown",
   "metadata": {},
   "source": [
    "## URL6: http://stats.nba.com/players/touches/"
   ]
  },
  {
   "cell_type": "code",
   "execution_count": null,
   "metadata": {},
   "outputs": [],
   "source": [
    "# Define url\n",
    "url = \"http://stats.nba.com/players/touches/\"\n",
    "\n",
    "## Set up chrome driver, open browser\n",
    "path_to_chromedriver = \"./web_scraping/chromedriver\"\n",
    "browser = webdriver.Chrome(executable_path=path_to_chromedriver)\n",
    "browser.get(url)"
   ]
  },
  {
   "cell_type": "code",
   "execution_count": null,
   "metadata": {},
   "outputs": [],
   "source": [
    "## Need to alter the (i.e. season: 2017-18, season type: Regular Season, Season Segment: All Games)\n",
    "## This should be mutable by the user though.... (to whatever kevin specifies really) pass into option\n",
    "\n",
    "# 2017-2018\n",
    "browser.find_element_by_xpath(\"/html/body/main/div[2]/div/div[2]/div/div/div[1]/div[1]/div/div/label/select/option[1]\").click()\n",
    "# Regular Season\n",
    "browser.find_element_by_xpath(\"/html/body/main/div[2]/div/div[2]/div/div/div[1]/div[2]/div/div/label/select/option[2]\").click()\n",
    "# Per game\n",
    "browser.find_element_by_xpath(\"/html/body/main/div[2]/div/div[2]/div/div/div[1]/div[3]/div/div/label/select/option[2]\").click()\n",
    "# All Data\n",
    "browser.find_element_by_xpath(\"/html/body/main/div[2]/div/div[2]/div/div/nba-stat-table/div[3]/div/div/select/option[1]\").click()"
   ]
  },
  {
   "cell_type": "code",
   "execution_count": null,
   "metadata": {},
   "outputs": [],
   "source": [
    "table = browser.find_element_by_class_name('nba-stat-table__overflow')\n",
    "needed_stat_args = [6,11]\n",
    "\n",
    "# Containers\n",
    "player_names = []\n",
    "player_stats = []\n",
    "\n",
    "cols = [\"Touches/game\", \"PTS/Touch\"]\n",
    "data = table.text.split(\"\\n\")[12:]\n",
    "\n",
    "# Populate containers\n",
    "for idx, elm in enumerate(data):\n",
    "    if idx % 2 == 0:\n",
    "        player_names.append( elm )\n",
    "    else:\n",
    "        player_stats.append( np.array(elm.split(\" \"))[needed_stat_args] )"
   ]
  },
  {
   "cell_type": "code",
   "execution_count": null,
   "metadata": {},
   "outputs": [],
   "source": [
    "df = pd.DataFrame(columns=[\"PLAYER\"] + cols)\n",
    "for i, col in enumerate(df.columns):\n",
    "    if col == \"PLAYER\":\n",
    "        df[col] = player_names\n",
    "    else:\n",
    "        df[col] = [j[i-1] for j in player_stats]"
   ]
  },
  {
   "cell_type": "code",
   "execution_count": null,
   "metadata": {},
   "outputs": [],
   "source": [
    "df.head()"
   ]
  },
  {
   "cell_type": "markdown",
   "metadata": {},
   "source": [
    "## URL7: http://stats.nba.com/players/speed-distance/"
   ]
  },
  {
   "cell_type": "code",
   "execution_count": null,
   "metadata": {},
   "outputs": [],
   "source": [
    "# Define url\n",
    "url = \"http://stats.nba.com/players/speed-distance/\"\n",
    "\n",
    "## Set up chrome driver, open browser\n",
    "path_to_chromedriver = \"./web_scraping/chromedriver\"\n",
    "browser = webdriver.Chrome(executable_path=path_to_chromedriver)\n",
    "browser.get(url)"
   ]
  },
  {
   "cell_type": "code",
   "execution_count": null,
   "metadata": {},
   "outputs": [],
   "source": [
    "## Need to alter the (i.e. season: 2017-18, season type: Regular Season, Season Segment: All Games)\n",
    "## This should be mutable by the user though.... (to whatever kevin specifies really) pass into option\n",
    "\n",
    "# 2017-2018\n",
    "browser.find_element_by_xpath(\"/html/body/main/div[2]/div/div[2]/div/div/div[1]/div[1]/div/div/label/select/option[1]\").click()\n",
    "# Regular Season\n",
    "browser.find_element_by_xpath(\"/html/body/main/div[2]/div/div[2]/div/div/div[1]/div[2]/div/div/label/select/option[2]\").click()\n",
    "# Per game\n",
    "browser.find_element_by_xpath(\"/html/body/main/div[2]/div/div[2]/div/div/div[1]/div[3]/div/div/label/select/option[2]\").click()\n",
    "# All Data\n",
    "browser.find_element_by_xpath(\"/html/body/main/div[2]/div/div[2]/div/div/nba-stat-table/div[3]/div/div/select/option[1]\").click()"
   ]
  },
  {
   "cell_type": "code",
   "execution_count": null,
   "metadata": {},
   "outputs": [],
   "source": [
    "table = browser.find_element_by_class_name('nba-stat-table__overflow')\n",
    "needed_stat_args = [y for y in range(6,12)]\n",
    "\n",
    "# Containers\n",
    "player_names = []\n",
    "player_stats = []\n",
    "\n",
    "cols = [\"Dist_miles/g\", \"Dist_miles_off/g\", \"Dist_miles_def/g\", \"avg_speed/g\", \"avg_speed_off/g\", \"avg_speed_def/g\"]\n",
    "data = table.text.split(\"\\n\")[1:]\n",
    "\n",
    "# Populate containers\n",
    "for idx, elm in enumerate(data):\n",
    "    if idx % 2 == 0:\n",
    "        player_names.append( elm )\n",
    "    else:\n",
    "        player_stats.append( np.array(elm.split(\" \"))[needed_stat_args] )"
   ]
  },
  {
   "cell_type": "code",
   "execution_count": null,
   "metadata": {},
   "outputs": [],
   "source": [
    "df = pd.DataFrame(columns=[\"PLAYER\"] + cols)\n",
    "for i, col in enumerate(df.columns):\n",
    "    if col == \"PLAYER\":\n",
    "        df[col] = player_names\n",
    "    else:\n",
    "        df[col] = [j[i-1] for j in player_stats]"
   ]
  },
  {
   "cell_type": "code",
   "execution_count": null,
   "metadata": {},
   "outputs": [],
   "source": [
    "df.head()"
   ]
  },
  {
   "cell_type": "markdown",
   "metadata": {},
   "source": [
    "## URL8: http://stats.nba.com/players/defense-dash-overall/"
   ]
  },
  {
   "cell_type": "code",
   "execution_count": null,
   "metadata": {},
   "outputs": [],
   "source": [
    "# Define url\n",
    "url = \"http://stats.nba.com/players/defense-dash-overall/\"\n",
    "\n",
    "## Set up chrome driver, open browser\n",
    "path_to_chromedriver = \"./web_scraping/chromedriver\"\n",
    "browser = webdriver.Chrome(executable_path=path_to_chromedriver)\n",
    "browser.get(url)"
   ]
  },
  {
   "cell_type": "code",
   "execution_count": null,
   "metadata": {},
   "outputs": [],
   "source": [
    "## Need to alter the (i.e. season: 2017-18, season type: Regular Season, Season Segment: All Games)\n",
    "## This should be mutable by the user though.... (to whatever kevin specifies really) pass into option\n",
    "\n",
    "# 2017-2018\n",
    "browser.find_element_by_xpath(\"/html/body/main/div[2]/div/div[2]/div/div/div[1]/div[1]/div/div/label/select/option[1]\").click()\n",
    "# Regular Season\n",
    "browser.find_element_by_xpath(\"/html/body/main/div[2]/div/div[2]/div/div/div[1]/div[2]/div/div/label/select/option[1]\").click()\n",
    "# Per game\n",
    "browser.find_element_by_xpath(\"/html/body/main/div[2]/div/div[2]/div/div/div[1]/div[3]/div/div/label/select/option[2]\").click()\n",
    "# All Data\n",
    "browser.find_element_by_xpath(\"/html/body/main/div[2]/div/div[2]/div/div/nba-stat-table/div[3]/div/div/select/option[1]\").click()"
   ]
  },
  {
   "cell_type": "code",
   "execution_count": null,
   "metadata": {},
   "outputs": [],
   "source": [
    "table = browser.find_element_by_class_name('nba-stat-table__overflow')\n",
    "needed_stat_args = [y for y in range(7,11)]\n",
    "\n",
    "# Containers\n",
    "player_names = []\n",
    "player_stats = []\n",
    "\n",
    "cols = [\"DFGA\",\"DFG%\",\"FG%\",\"DIFF%\"]\n",
    "data = table.text.split(\"\\n\")[1:]\n",
    "\n",
    "# Populate containers\n",
    "for idx, elm in enumerate(data):\n",
    "    if idx % 2 == 0:\n",
    "        player_names.append( elm )\n",
    "    else:\n",
    "        player_stats.append( np.array(elm.split(\" \"))[needed_stat_args] )"
   ]
  },
  {
   "cell_type": "code",
   "execution_count": null,
   "metadata": {},
   "outputs": [],
   "source": [
    "df = pd.DataFrame(columns=[\"PLAYER\"] + cols)\n",
    "for i, col in enumerate(df.columns):\n",
    "    if col == \"PLAYER\":\n",
    "        df[col] = player_names\n",
    "    else:\n",
    "        df[col] = [j[i-1] for j in player_stats]"
   ]
  },
  {
   "cell_type": "code",
   "execution_count": null,
   "metadata": {},
   "outputs": [],
   "source": [
    "df.head()"
   ]
  },
  {
   "cell_type": "markdown",
   "metadata": {},
   "source": [
    "# Pre-Aggregation, Functionize Ingestion"
   ]
  },
  {
   "cell_type": "code",
   "execution_count": 2,
   "metadata": {},
   "outputs": [],
   "source": [
    "nba_stats_info = {\"http://stats.nba.com/players/usage/\": \\\n",
    "                  [[\"/html/body/main/div[2]/div/div[2]/div/div/div[1]/div[1]/div/div/label/select/option[2]\",\\\n",
    "                   \"/html/body/main/div[2]/div/div[2]/div/div/div[1]/div[2]/div/div/label/select/option[2]\",\\\n",
    "                   \"/html/body/main/div[2]/div/div[2]/div/div/nba-stat-table/div[3]/div/div/select/option[1]\"],\\\n",
    "                  \"nba-stat-table__overflow\",\\\n",
    "                  [8,10] + [i for i in range(12,20)] + [23],\\\n",
    "                  ['%FGA','%3PA','%FTA','%OREB','%DREB','%REB','%AST','%TOV','%STL','%BLK','%PTS'],\\\n",
    "                  1,\\\n",
    "                  3],\\\n",
    "                  \"http://stats.nba.com/players/rebounding/\": \\\n",
    "                  [[\"/html/body/main/div[2]/div/div[2]/div/div/div[1]/div[1]/div/div/label/select/option[1]\",\\\n",
    "                    \"/html/body/main/div[2]/div/div[2]/div/div/div[1]/div[2]/div/div/label/select/option[2]\",\\\n",
    "                    \"/html/body/main/div[2]/div/div[2]/div/div/div[1]/div[3]/div/div/label/select/option[2]\",\\\n",
    "                    \"/html/body/main/div[2]/div/div[2]/div/div/nba-stat-table/div[3]/div/div/select/option[1]\"],\\\n",
    "                   \"table\",\\\n",
    "                   [6,7,8,9],\\\n",
    "                   [\"Consested_REB\", \"Consested_REB%\", \"REB_changes\", \"REB_changes%\"],\\\n",
    "                   8,\\\n",
    "                   2],\\\n",
    "                  \"http://stats.nba.com/players/opponent/\": \\\n",
    "                  [[\"/html/body/main/div[2]/div/div[2]/div/div/div[1]/div[1]/div/div/label/select/option[2]\",\\\n",
    "                    \"/html/body/main/div[2]/div/div[2]/div/div/div[1]/div[2]/div/div/label/select/option[2]\",\\\n",
    "                    \"/html/body/main/div[2]/div/div[2]/div/div/div[1]/div[3]/div/div/label/select/option[3]\",\\\n",
    "                    \"/html/body/main/div[2]/div/div[2]/div/div/nba-stat-table/div[3]/div/div/select/option[1]\"],\\\n",
    "                   \"nba-stat-table__overflow\",\\\n",
    "                   [6,7,9,10,12] + [x for x in range(14,21)] + [24,25],\\\n",
    "                   [\"opp_FGA/100p\",\"opp_FG%\",\"opp_3PA/100p\",\"opp_3P%\",\"opp_FTA/100p\",\\\n",
    "                    \"opp_OREB/100p\",\"opp_DREB/100p\",\"opp_REB/100p\", \"opp_AST/100p\", \\\n",
    "                    \"opp_TOV/100p\", \"opp_STL/100p\", \"opp_BLK/100p\", \"opp_PTS/100p\", \"opp_plusminus/100p\"],\\\n",
    "                   40,\\\n",
    "                   3],\\\n",
    "                  \"http://stats.nba.com/players/defense/\": \\\n",
    "                  [[\"/html/body/main/div[2]/div/div[2]/div/div/div[1]/div[1]/div/div/label/select/option[2]\",\\\n",
    "                    \"/html/body/main/div[2]/div/div[2]/div/div/div[1]/div[2]/div/div/label/select/option[2]\",\\\n",
    "                    \"/html/body/main/div[2]/div/div[2]/div/div/div[1]/div[3]/div/div/label/select/option[3]\",\\\n",
    "                    \"/html/body/main/div[2]/div/div[2]/div/div/nba-stat-table/div[3]/div/div/select/option[1]\"],\\\n",
    "                   \"nba-stat-table__overflow\",\\\n",
    "                   [-1],\\\n",
    "                   [\"Def_WS/100p\"],\\\n",
    "                   10,\\\n",
    "                   3],\\\n",
    "                  \"http://stats.nba.com/players/advanced/\": \\\n",
    "                  [[\"/html/body/main/div[2]/div/div[2]/div/div/div[1]/div[1]/div/div/label/select/option[2]\",\\\n",
    "                    \"/html/body/main/div[2]/div/div[2]/div/div/div[1]/div[2]/div/div/label/select/option[2]\",\\\n",
    "                    \"/html/body/main/div[2]/div/div[2]/div/div/nba-stat-table/div[3]/div/div/select/option[1]\"],\\\n",
    "                   \"nba-stat-table__overflow\",\\\n",
    "                   [15,11,19,20],\\\n",
    "                   [\"TO_ratio\", \"AST_ratio\", \"Pace\", \"PIE\"],\\\n",
    "                   1,\\\n",
    "                   3],\\\n",
    "                  \"http://stats.nba.com/players/touches/\": \\\n",
    "                  [[\"/html/body/main/div[2]/div/div[2]/div/div/div[1]/div[1]/div/div/label/select/option[1]\",\\\n",
    "                    \"/html/body/main/div[2]/div/div[2]/div/div/div[1]/div[2]/div/div/label/select/option[2]\",\\\n",
    "                    \"/html/body/main/div[2]/div/div[2]/div/div/div[1]/div[3]/div/div/label/select/option[2]\",\\\n",
    "                    \"/html/body/main/div[2]/div/div[2]/div/div/nba-stat-table/div[3]/div/div/select/option[1]\"],\\\n",
    "                   \"nba-stat-table__overflow\",\\\n",
    "                   [6,11],\\\n",
    "                   [\"Touches/game\", \"PTS/Touch\"],\\\n",
    "                   12,\\\n",
    "                   2],\\\n",
    "                  \"http://stats.nba.com/players/speed-distance/\": \\\n",
    "                  [[\"/html/body/main/div[2]/div/div[2]/div/div/div[1]/div[1]/div/div/label/select/option[1]\",\\\n",
    "                    \"/html/body/main/div[2]/div/div[2]/div/div/div[1]/div[2]/div/div/label/select/option[2]\",\\\n",
    "                    \"/html/body/main/div[2]/div/div[2]/div/div/div[1]/div[3]/div/div/label/select/option[2]\",\\\n",
    "                    \"/html/body/main/div[2]/div/div[2]/div/div/nba-stat-table/div[3]/div/div/select/option[1]\"],\\\n",
    "                   \"nba-stat-table__overflow\",\\\n",
    "                   [y for y in range(6,12)],\\\n",
    "                   [\"Dist_miles/g\", \"Dist_miles_off/g\", \"Dist_miles_def/g\", \"avg_speed/g\", \\\n",
    "                    \"avg_speed_off/g\", \"avg_speed_def/g\"],\\\n",
    "                   1,\\\n",
    "                   2],\\\n",
    "                  \"http://stats.nba.com/players/defense-dash-overall/\": \\\n",
    "                  [[\"/html/body/main/div[2]/div/div[2]/div/div/div[1]/div[1]/div/div/label/select/option[1]\",\\\n",
    "                    \"/html/body/main/div[2]/div/div[2]/div/div/div[1]/div[2]/div/div/label/select/option[1]\",\\\n",
    "                    \"/html/body/main/div[2]/div/div[2]/div/div/div[1]/div[3]/div/div/label/select/option[2]\",\\\n",
    "                    \"/html/body/main/div[2]/div/div[2]/div/div/nba-stat-table/div[3]/div/div/select/option[1]\"],\\\n",
    "                   \"nba-stat-table__overflow\",\\\n",
    "                   [y for y in range(7,11)],\\\n",
    "                   [\"DFGA\",\"DFG%\",\"FG%\",\"DIFF%\"],\\\n",
    "                   1,\\\n",
    "                   2] }\n",
    "\n",
    "\n"
   ]
  },
  {
   "cell_type": "code",
   "execution_count": 3,
   "metadata": {},
   "outputs": [],
   "source": [
    "def scrape_nba_stats( url ):\n",
    "    \n",
    "    print(\"URL: \", url)\n",
    "    \n",
    "    def populate_2( data, stat_args, player_names, player_stats ):\n",
    "        \n",
    "        for idx, elm in enumerate(data):\n",
    "            if idx % 2 == 0:\n",
    "                player_names.append( elm )\n",
    "            else:\n",
    "                player_stats.append( np.array(elm.split(\" \"))[stat_args] )\n",
    "                \n",
    "        return player_names, player_stats\n",
    "        \n",
    "\n",
    "    def populate_3( data, stat_args, player_names, player_stats ):\n",
    "        \n",
    "        for idx, elm in enumerate(data):\n",
    "            if idx % 3 == 1:\n",
    "                player_names.append( elm )\n",
    "            elif idx % 3 == 2:\n",
    "                player_stats.append( np.array(elm.split(\" \"))[stat_args] )\n",
    "                \n",
    "        return player_names, player_stats\n",
    "    \n",
    "    ## Unpack data\n",
    "    xpaths     = nba_stats_info[url][0]\n",
    "    class_name = nba_stats_info[url][1]\n",
    "    stats_args = nba_stats_info[url][2]\n",
    "    cols       = nba_stats_info[url][3]\n",
    "    dp         = nba_stats_info[url][4]\n",
    "    fn         = nba_stats_info[url][5]\n",
    "    \n",
    "    ## Set up chrome driver, open browser\n",
    "    path_to_chromedriver = \"./web_scraping/chromedriver\"\n",
    "    browser = webdriver.Chrome(executable_path=path_to_chromedriver)\n",
    "    browser.get(url); time.sleep(8) ## make sure the browswer loads before executing xpaths\n",
    "    \n",
    "    ## Use the xpaths to click the necessary browswer buttons\n",
    "    for xpath in xpaths: \n",
    "        browser.find_element_by_xpath(xpath).click(); time.sleep(8) # Sleep in between \n",
    "    \n",
    "    ## Populate containers\n",
    "    table = browser.find_element_by_class_name(class_name)\n",
    "    \n",
    "    # Containers\n",
    "    player_names = []; player_stats = []\n",
    "    data = table.text.split(\"\\n\")[dp:]\n",
    "\n",
    "    if fn == 2: \n",
    "        player_names, player_stats = populate_2( data, stats_args, player_names, player_stats )\n",
    "    else:\n",
    "        player_names, player_stats = populate_3( data, stats_args, player_names, player_stats )\n",
    "    \n",
    "    # Create dataframe\n",
    "    df = pd.DataFrame(columns=[\"PLAYER\"] + cols)\n",
    "    for i, col in enumerate(df.columns):\n",
    "        if col == \"PLAYER\":\n",
    "            df[col] = player_names\n",
    "        else:\n",
    "            df[col] = [j[i-1] for j in player_stats]\n",
    "            \n",
    "    browser.quit()\n",
    "\n",
    "    return df"
   ]
  },
  {
   "cell_type": "code",
   "execution_count": 4,
   "metadata": {},
   "outputs": [
    {
     "name": "stdout",
     "output_type": "stream",
     "text": [
      "URL:  http://stats.nba.com/players/usage/\n",
      "URL:  http://stats.nba.com/players/rebounding/\n",
      "URL:  http://stats.nba.com/players/opponent/\n",
      "URL:  http://stats.nba.com/players/defense/\n",
      "URL:  http://stats.nba.com/players/advanced/\n",
      "URL:  http://stats.nba.com/players/touches/\n",
      "URL:  http://stats.nba.com/players/speed-distance/\n",
      "URL:  http://stats.nba.com/players/defense-dash-overall/\n"
     ]
    }
   ],
   "source": [
    "df_list = [scrape_nba_stats(url) for url in nba_stats_info.keys()]"
   ]
  },
  {
   "cell_type": "code",
   "execution_count": 5,
   "metadata": {},
   "outputs": [],
   "source": [
    "# Fix df3, player names comma separated\n",
    "tmp_df3 = df_list[2]\n",
    "for i, name in enumerate(tmp_df3.PLAYER):\n",
    "   \n",
    "    L = name.split(\", \")\n",
    "    if( len(L) == 2 ):\n",
    "        second = L[0]; first = L[1]\n",
    "        new_name = first + \" \" + second\n",
    "        tmp_df3.iloc[i,0] = new_name\n",
    "        \n",
    "df_list[2] = tmp_df3"
   ]
  },
  {
   "cell_type": "code",
   "execution_count": 6,
   "metadata": {},
   "outputs": [],
   "source": [
    "for url, df in zip( list(nba_stats_info.keys()), df_list ):\n",
    "    \n",
    "    outfile_name = \"NBASTATS_\" + url.split(\"/\")[4]\n",
    "    df.to_csv( \"./TEMP/\" + outfile_name )"
   ]
  },
  {
   "cell_type": "markdown",
   "metadata": {},
   "source": [
    "# Aggregation of all the individual dataframes"
   ]
  },
  {
   "cell_type": "code",
   "execution_count": 14,
   "metadata": {},
   "outputs": [],
   "source": [
    "master_df = pd.DataFrame(columns=[\"PLAYER\"])\n",
    "master_df.PLAYER = df_list[0].PLAYER\n",
    "for i in range( len( df_list ) ):\n",
    "    master_df = master_df.merge( df_list[i] )"
   ]
  },
  {
   "cell_type": "code",
   "execution_count": 15,
   "metadata": {},
   "outputs": [
    {
     "data": {
      "text/plain": [
       "(601, 47)"
      ]
     },
     "execution_count": 15,
     "metadata": {},
     "output_type": "execute_result"
    }
   ],
   "source": [
    "master_df.shape"
   ]
  },
  {
   "cell_type": "markdown",
   "metadata": {},
   "source": [
    "## Let's add the Basketball Reference / ESPN Data Since that should be easy"
   ]
  },
  {
   "cell_type": "markdown",
   "metadata": {},
   "source": [
    "## ESPN "
   ]
  },
  {
   "cell_type": "code",
   "execution_count": 26,
   "metadata": {},
   "outputs": [
    {
     "name": "stdout",
     "output_type": "stream",
     "text": [
      "new_url:  http://www.espn.com/nba/statistics/rpm\n",
      "new_url:  http://www.espn.com/nba/statistics/rpm/_/page/2\n",
      "new_url:  http://www.espn.com/nba/statistics/rpm/_/page/3\n",
      "new_url:  http://www.espn.com/nba/statistics/rpm/_/page/4\n",
      "new_url:  http://www.espn.com/nba/statistics/rpm/_/page/5\n",
      "new_url:  http://www.espn.com/nba/statistics/rpm/_/page/6\n",
      "new_url:  http://www.espn.com/nba/statistics/rpm/_/page/7\n",
      "new_url:  http://www.espn.com/nba/statistics/rpm/_/page/8\n",
      "new_url:  http://www.espn.com/nba/statistics/rpm/_/page/9\n",
      "new_url:  http://www.espn.com/nba/statistics/rpm/_/page/10\n",
      "new_url:  http://www.espn.com/nba/statistics/rpm/_/page/11\n",
      "new_url:  http://www.espn.com/nba/statistics/rpm/_/page/12\n",
      "new_url:  http://www.espn.com/nba/statistics/rpm/_/page/13\n",
      "new_url:  http://www.espn.com/nba/statistics/rpm/_/page/14\n"
     ]
    }
   ],
   "source": [
    "espn_df_list = []; root_espn_url = \"http://www.espn.com/nba/statistics/rpm\" \n",
    "for i in range( 1, 15 ):\n",
    "    \n",
    "    url = root_espn_url\n",
    "    if (i != 1):\n",
    "        url += \"/_/page/{}\".format(i)\n",
    "    \n",
    "    print(\"new_url: \", url)\n",
    "    \n",
    "    ## Fetch necessary EPSN data\n",
    "    espn_data = pd.read_html(url)[0]\n",
    "    espn_data.columns = espn_data.iloc[0,:].tolist()\n",
    "    espn_data = espn_data.iloc[1:,:]\n",
    "    espn_data.index = pd.RangeIndex(0, len(espn_data))\n",
    "    tmp_df = espn_data[ [\"NAME\", \"ORPM\", \"DRPM\", \"RPM\", \"WINS\"] ]\n",
    "    tmp_df.columns = [\"PLAYER\", \"ORPM\", \"DRPM\", \"RPM\", \"WINS\"]\n",
    "    \n",
    "    ## Format the PLAYER so upon merge it aligns with other formats\n",
    "    for j, name in enumerate( tmp_df[\"PLAYER\"] ):\n",
    "        \n",
    "        L = name.split(\" \")\n",
    "        first = L[0]; second = L[1]; pos = L[2]\n",
    "\n",
    "        if len(L) != 3: ## edge case\n",
    "            pos = L[3]\n",
    "\n",
    "        tmp_df.loc[j, \"PLAYER\"] = first + \" \" + second[:-1]\n",
    "        tmp_df.loc[j, \"POSITION\"] = pos\n",
    "        \n",
    "    # print( \"{} shape: {}\".format(i, tmp_df.shape) )\n",
    "    espn_df_list.append( tmp_df )\n",
    "\n",
    "master_espn_df = pd.concat( espn_df_list )"
   ]
  },
  {
   "cell_type": "code",
   "execution_count": 30,
   "metadata": {},
   "outputs": [
    {
     "data": {
      "text/plain": [
       "(521, 6)"
      ]
     },
     "execution_count": 30,
     "metadata": {},
     "output_type": "execute_result"
    }
   ],
   "source": [
    "master_espn_df.shape"
   ]
  },
  {
   "cell_type": "markdown",
   "metadata": {},
   "source": [
    "### Basketball Reference"
   ]
  },
  {
   "cell_type": "code",
   "execution_count": 31,
   "metadata": {},
   "outputs": [],
   "source": [
    "master_bbref_df = pd.DataFrame()\n",
    "\n",
    "# Fetch Per 100 possession data\n",
    "br_per100_url = \"https://www.basketball-reference.com/leagues/NBA_2018_per_poss.html\"\n",
    "br_per100_data = pd.read_html(br_per100_url)[0]\n",
    "br_per100_data.columns = [stat + \"_BR_100\" for stat in br_per100_data.columns.tolist()]\n",
    "\n",
    "cols_100 = [elm for elm in br_per100_data.columns.tolist()[8:]]\n",
    "cols_100.append( br_per100_data.columns.tolist()[1] )\n",
    "\n",
    "# Append to master dataframe\n",
    "for stat in cols_100:\n",
    "    master_bbref_df[stat] = br_per100_data[stat] \n",
    "    \n",
    "# Fetch Advanced data\n",
    "br_adv_url  = \"https://www.basketball-reference.com/leagues/NBA_2018_advanced.html\"\n",
    "br_adv_data = pd.read_html(br_adv_url)[0]\n",
    "br_adv_data.columns = [stat + \"_BR_ADV\" for stat in br_adv_data.columns.tolist()]\n",
    "cols_adv = br_adv_data.columns.tolist()[1:3] + br_adv_data.columns.tolist()[4:]\n",
    "\n",
    "# Append to master dataframe\n",
    "for stat in cols_adv:\n",
    "    master_bbref_df[stat] = br_adv_data[stat]\n",
    "    \n",
    "# Fetch Total data\n",
    "br_tot_url = \"https://www.basketball-reference.com/leagues/NBA_2018_totals.html\"\n",
    "br_tot_data = pd.read_html(br_tot_url)[0]\n",
    "br_tot_data.columns = [stat + \"_BR_TOT\" for stat in br_tot_data.columns.tolist()]\n",
    "\n",
    "cols_list = br_tot_data.columns.tolist()\n",
    "cols_tot = [stat for stat in cols_list[8:] if ( ('%' not in stat) or (stat == \"eFG%_BR_TOT\") )]\n",
    "cols_tot.append( cols_list[1] )\n",
    "\n",
    "# Append to master dataframe\n",
    "for stat in cols_tot:\n",
    "    master_bbref_df[stat] = br_tot_data[stat]\n",
    "    \n",
    "master_bbref_df.columns = master_bbref_df.columns.tolist()[:-1] + [\"PLAYER\"]"
   ]
  },
  {
   "cell_type": "markdown",
   "metadata": {},
   "source": [
    "## Merge them all together"
   ]
  },
  {
   "cell_type": "code",
   "execution_count": 33,
   "metadata": {},
   "outputs": [],
   "source": [
    "master_df = master_df.merge( master_bbref_df, on=\"PLAYER\" )\n",
    "master_df = master_df.merge( master_espn_df, on=\"PLAYER\" )"
   ]
  },
  {
   "cell_type": "code",
   "execution_count": 51,
   "metadata": {},
   "outputs": [],
   "source": [
    "from datetime import datetime\n",
    "\n",
    "td = datetime.today().strftime('%m_%d_%Y')"
   ]
  },
  {
   "cell_type": "code",
   "execution_count": 49,
   "metadata": {},
   "outputs": [
    {
     "data": {
      "text/plain": [
       "0"
      ]
     },
     "execution_count": 49,
     "metadata": {},
     "output_type": "execute_result"
    }
   ],
   "source": [
    "import os\n",
    "\n",
    "os.system( \"mkdir {}\".format(td) )"
   ]
  },
  {
   "cell_type": "code",
   "execution_count": 52,
   "metadata": {},
   "outputs": [
    {
     "data": {
      "text/plain": [
       "'mkdir 10_01_2018'"
      ]
     },
     "execution_count": 52,
     "metadata": {},
     "output_type": "execute_result"
    }
   ],
   "source": [
    "\"mkdir {}\".format(td)"
   ]
  },
  {
   "cell_type": "code",
   "execution_count": null,
   "metadata": {},
   "outputs": [],
   "source": []
  }
 ],
 "metadata": {
  "kernelspec": {
   "display_name": "Python 3",
   "language": "python",
   "name": "python3"
  },
  "language_info": {
   "codemirror_mode": {
    "name": "ipython",
    "version": 3
   },
   "file_extension": ".py",
   "mimetype": "text/x-python",
   "name": "python",
   "nbconvert_exporter": "python",
   "pygments_lexer": "ipython3",
   "version": "3.6.3"
  }
 },
 "nbformat": 4,
 "nbformat_minor": 2
}
