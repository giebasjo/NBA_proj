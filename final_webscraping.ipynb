{
 "cells": [
  {
   "cell_type": "markdown",
   "metadata": {},
   "source": [
    "## Working with Kevin\n",
    "*date*: 8/16/2018"
   ]
  },
  {
   "cell_type": "code",
   "execution_count": 1,
   "metadata": {},
   "outputs": [],
   "source": [
    "# Import packages\n",
    "import pandas as pd\n",
    "import numpy as np\n",
    "import matplotlib.pyplot as plt\n",
    "import seaborn as sns; sns.set()\n",
    "\n",
    "# Fuck warnings\n",
    "import warnings\n",
    "warnings.filterwarnings('ignore')\n",
    "\n",
    "# mas\n",
    "%matplotlib inline\n",
    "from selenium import webdriver\n",
    "from pandas import *\n",
    "import pandas\n",
    "import numpy as np\n",
    "import matplotlib.pyplot as plt\n",
    "from sqlalchemy import *"
   ]
  },
  {
   "cell_type": "code",
   "execution_count": 2,
   "metadata": {},
   "outputs": [],
   "source": [
    "master_df = pd.DataFrame()"
   ]
  },
  {
   "cell_type": "markdown",
   "metadata": {},
   "source": [
    "## Basketball Reference data"
   ]
  },
  {
   "cell_type": "code",
   "execution_count": 3,
   "metadata": {},
   "outputs": [],
   "source": [
    "# Fetch Per 100 possession data\n",
    "br_per100_url = \"https://www.basketball-reference.com/leagues/NBA_2018_per_poss.html\"\n",
    "br_per100_data = pd.read_html(br_per100_url)[0]\n",
    "br_per100_data.columns = [stat + \"_BR_100\" for stat in br_per100_data.columns.tolist()]\n",
    "\n",
    "cols_100 = [elm for elm in br_per100_data.columns.tolist()[8:]]\n",
    "cols_100.append( br_per100_data.columns.tolist()[1] )"
   ]
  },
  {
   "cell_type": "code",
   "execution_count": 4,
   "metadata": {},
   "outputs": [],
   "source": [
    "# Append to master dataframe\n",
    "for stat in cols_100:\n",
    "    master_df[stat] = br_per100_data[stat] "
   ]
  },
  {
   "cell_type": "code",
   "execution_count": 5,
   "metadata": {},
   "outputs": [],
   "source": [
    "# Fetch Advanced data\n",
    "br_adv_url  = \"https://www.basketball-reference.com/leagues/NBA_2018_advanced.html\"\n",
    "br_adv_data = pd.read_html(br_adv_url)[0]\n",
    "br_adv_data.columns = [stat + \"_BR_ADV\" for stat in br_adv_data.columns.tolist()]\n",
    "cols_adv = br_adv_data.columns.tolist()[1:3] + br_adv_data.columns.tolist()[4:]"
   ]
  },
  {
   "cell_type": "code",
   "execution_count": 6,
   "metadata": {},
   "outputs": [],
   "source": [
    "# Append to master dataframe\n",
    "for stat in cols_adv:\n",
    "    master_df[stat] = br_adv_data[stat]"
   ]
  },
  {
   "cell_type": "code",
   "execution_count": 7,
   "metadata": {},
   "outputs": [],
   "source": [
    "# Fetch Total data\n",
    "br_tot_url = \"https://www.basketball-reference.com/leagues/NBA_2018_totals.html\"\n",
    "br_tot_data = pd.read_html(br_tot_url)[0]\n",
    "br_tot_data.columns = [stat + \"_BR_TOT\" for stat in br_tot_data.columns.tolist()]\n",
    "\n",
    "cols_list = br_tot_data.columns.tolist()\n",
    "cols_tot = [stat for stat in cols_list[8:] if ( ('%' not in stat) or (stat == \"eFG%_BR_TOT\") )]\n",
    "cols_tot.append( cols_list[1] )"
   ]
  },
  {
   "cell_type": "code",
   "execution_count": 8,
   "metadata": {},
   "outputs": [],
   "source": [
    "# Append to master dataframe\n",
    "for stat in cols_tot:\n",
    "    master_df[stat] = br_tot_data[stat]"
   ]
  },
  {
   "cell_type": "markdown",
   "metadata": {},
   "source": [
    "## NBA Stats"
   ]
  },
  {
   "cell_type": "code",
   "execution_count": 10,
   "metadata": {},
   "outputs": [],
   "source": [
    "# Define URLs to scrape\n",
    "url_0 = \"http://stats.nba.com/players/usage/\"\n",
    "url_1 = \"http://stats.nba.com/players/rebounding/\"\n",
    "url_2 = \"http://stats.nba.com/players/opponent/?sort=GP&dir=-1\"\n",
    "url_3 = \"http://stats.nba.com/players/defense/\"\n",
    "url_4 = \"http://stats.nba.com/players/advanced/?sort=GP&dir=-1\"\n",
    "url_5 = \"http://stats.nba.com/players/touches/\"\n",
    "url_6 = \"http://stats.nba.com/players/speed-distance/\"\n",
    "url_7 = \"http://stats.nba.com/players/defense-dash-overall/\"\n",
    "\n",
    "url_list = [url_0, url_1, url_2, url_3, url_4, url_5, url_6, url_7]"
   ]
  },
  {
   "cell_type": "code",
   "execution_count": 11,
   "metadata": {},
   "outputs": [],
   "source": [
    "def fn( browser ):\n",
    "    \n",
    "    # Get table from HTML\n",
    "    table = browser.find_element_by_class_name('nba-stat-table__overflow')\n",
    "    \n",
    "    player_ids = []\n",
    "    player_names = []\n",
    "    player_stats = []\n",
    "\n",
    "    for line_id, lines in enumerate(table.text.split('\\n')):\n",
    "        if line_id == 0:\n",
    "            column_names = lines.split(' ')[1:]\n",
    "        else:\n",
    "            if line_id % 3 == 1:\n",
    "                player_ids.append(lines)\n",
    "            if line_id % 3 == 2:\n",
    "                player_names.append(lines)\n",
    "            if line_id % 3 == 0:\n",
    "                player_stats.append( [float(i) for i in lines.split(' ')] )\n",
    "              \n",
    "    print(\"Made it here\\n\")\n",
    "    db = pandas.DataFrame({'player': player_names,\n",
    "                           'gp': [i[0] for i in player_stats],\n",
    "                           'min': [i[1] for i in player_stats],\n",
    "                           'pts': [i[2] for i in player_stats],\n",
    "                           'fgm': [i[3] for i in player_stats], \n",
    "                           'fga': [i[4] for i in player_stats],\n",
    "                           'fg%': [i[5] for i in player_stats],\n",
    "                           '3pm': [i[6] for i in player_stats],\n",
    "                           '3pa': [i[7] for i in player_stats],\n",
    "                           '3p%': [i[8] for i in player_stats],\n",
    "                           'ftm': [i[9] for i in player_stats],\n",
    "                           'fta': [i[10] for i in player_stats],\n",
    "                           'ft%': [i[11] for i in player_stats],\n",
    "                           'oreb': [i[12] for i in player_stats],\n",
    "                           'dreb': [i[13] for i in player_stats],\n",
    "                           'reb': [i[14] for i in player_stats],\n",
    "                           'ast': [i[15] for i in player_stats],\n",
    "                           'stl': [i[16] for i in player_stats],\n",
    "                           'blk': [i[17] for i in player_stats],\n",
    "                           'tov': [i[18] for i in player_stats],\n",
    "                           'eff': [i[19] for i in player_stats]\n",
    "                           }\n",
    "                         )\n",
    "    \n",
    "    db = db[['player', \n",
    "         'gp', \n",
    "         'min', \n",
    "         'pts', \n",
    "         'fgm', \n",
    "         'fga', \n",
    "         'fg%', \n",
    "         '3pm', \n",
    "         '3pa', \n",
    "         '3p%', \n",
    "         'ftm',\n",
    "         'fta', \n",
    "         'ft%', \n",
    "         'oreb', \n",
    "         'dreb',\n",
    "         'reb',\n",
    "         'ast',\n",
    "         'stl',\n",
    "         'blk',\n",
    "         'tov',\n",
    "         'eff']\n",
    "      ]\n",
    "\n",
    "    return db"
   ]
  },
  {
   "cell_type": "code",
   "execution_count": 12,
   "metadata": {},
   "outputs": [
    {
     "name": "stdout",
     "output_type": "stream",
     "text": [
      "URL:  http://stats.nba.com/players/usage/\n",
      "Unexpected error: <class 'selenium.common.exceptions.NoSuchElementException'>\n",
      "URL:  http://stats.nba.com/players/rebounding/\n",
      "Unexpected error: <class 'ValueError'>\n",
      "URL:  http://stats.nba.com/players/opponent/?sort=GP&dir=-1\n",
      "Unexpected error: <class 'selenium.common.exceptions.NoSuchElementException'>\n",
      "URL:  http://stats.nba.com/players/defense/\n",
      "Unexpected error: <class 'selenium.common.exceptions.NoSuchElementException'>\n",
      "URL:  http://stats.nba.com/players/advanced/?sort=GP&dir=-1\n",
      "Unexpected error: <class 'selenium.common.exceptions.NoSuchElementException'>\n",
      "URL:  http://stats.nba.com/players/touches/\n",
      "Unexpected error: <class 'ValueError'>\n",
      "URL:  http://stats.nba.com/players/speed-distance/\n",
      "Unexpected error: <class 'ValueError'>\n",
      "URL:  http://stats.nba.com/players/defense-dash-overall/\n",
      "Unexpected error: <class 'selenium.common.exceptions.NoSuchElementException'>\n"
     ]
    }
   ],
   "source": [
    "import sys\n",
    "db_list = list()\n",
    "for url in url_list:\n",
    "    \n",
    "    print(\"URL: \", url)\n",
    "    \n",
    "    ## Set up chrome driver \n",
    "    path_to_chromedriver = \"./web_scraping/chromedriver\"\n",
    "    browser = webdriver.Chrome(executable_path=path_to_chromedriver)\n",
    "    browser.get(url)\n",
    "    \n",
    "    try:\n",
    "    \n",
    "        ## This is for the correct seasson year\n",
    "        browser.find_element_by_xpath('/html/body/main/div[2]/div/div[2]/div/div/div[1]/div[2]/div/div/label/select/option[2]').click()\n",
    "        ## This is for \"all\" players option \n",
    "        browser.find_element_by_xpath('/html/body/main/div[2]/div/div[2]/div/div/nba-stat-table/div[3]/div/div/select/option[1]').click()\n",
    "\n",
    "        ## Follow up, just need to prompt user to enter the season you want to look at and such.\n",
    "\n",
    "        db = fn( browser )\n",
    "        db_list( db )\n",
    "    \n",
    "    except:\n",
    "        browser.close()\n",
    "        print(\"Unexpected error:\", sys.exc_info()[0])"
   ]
  },
  {
   "cell_type": "code",
   "execution_count": null,
   "metadata": {},
   "outputs": [],
   "source": []
  },
  {
   "cell_type": "code",
   "execution_count": null,
   "metadata": {},
   "outputs": [],
   "source": []
  },
  {
   "cell_type": "code",
   "execution_count": null,
   "metadata": {},
   "outputs": [],
   "source": []
  },
  {
   "cell_type": "code",
   "execution_count": null,
   "metadata": {},
   "outputs": [],
   "source": []
  },
  {
   "cell_type": "code",
   "execution_count": null,
   "metadata": {},
   "outputs": [],
   "source": []
  },
  {
   "cell_type": "code",
   "execution_count": null,
   "metadata": {},
   "outputs": [],
   "source": []
  },
  {
   "cell_type": "code",
   "execution_count": null,
   "metadata": {},
   "outputs": [],
   "source": []
  },
  {
   "cell_type": "code",
   "execution_count": null,
   "metadata": {},
   "outputs": [],
   "source": []
  },
  {
   "cell_type": "code",
   "execution_count": null,
   "metadata": {},
   "outputs": [],
   "source": []
  },
  {
   "cell_type": "code",
   "execution_count": null,
   "metadata": {},
   "outputs": [],
   "source": []
  },
  {
   "cell_type": "code",
   "execution_count": null,
   "metadata": {},
   "outputs": [],
   "source": []
  },
  {
   "cell_type": "code",
   "execution_count": null,
   "metadata": {},
   "outputs": [],
   "source": []
  }
 ],
 "metadata": {
  "kernelspec": {
   "display_name": "Python 3",
   "language": "python",
   "name": "python3"
  },
  "language_info": {
   "codemirror_mode": {
    "name": "ipython",
    "version": 3
   },
   "file_extension": ".py",
   "mimetype": "text/x-python",
   "name": "python",
   "nbconvert_exporter": "python",
   "pygments_lexer": "ipython3",
   "version": "3.6.3"
  }
 },
 "nbformat": 4,
 "nbformat_minor": 2
}
